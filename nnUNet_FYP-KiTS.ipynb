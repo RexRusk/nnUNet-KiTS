{
 "cells": [
  {
   "cell_type": "code",
   "execution_count": 1,
   "id": "initial_id",
   "metadata": {
    "ExecuteTime": {
     "end_time": "2024-04-07T13:32:25.173110Z",
     "start_time": "2024-04-07T13:32:25.168264Z"
    }
   },
   "outputs": [],
   "source": [
    "## preprocessing"
   ]
  },
  {
   "cell_type": "code",
   "execution_count": 8,
   "id": "60c03eb6-c831-4e46-89fc-8c53c70aa07d",
   "metadata": {},
   "outputs": [],
   "source": [
    "# dataset position\n",
    "base = \"/home/rusk/projects/nnUNet-KiTS/KiTS\"\n",
    "# output the raw dataset\n",
    "out = \"/home/rusk/projects/nnUNet-KiTS/DATASET/nnUNet_raw/Dataset040_KiTS\""
   ]
  },
  {
   "cell_type": "code",
   "execution_count": 9,
   "id": "4f6add8d-bcc2-4020-ada8-ef2bbbad522d",
   "metadata": {},
   "outputs": [],
   "source": [
    "# Define the lines to be appended not to .bashrc but as a tempprary command\n",
    "os.environ[\"nnUNet_raw\"] = \"/home/rusk/projects/nnUNet-KiTS/DATASET/nnUNet_raw\"\n",
    "os.environ[\"nnUNet_preprocessed\"] = \"/home/rusk/projects/nnUNet-KiTS/DATASET/nnUNet_preprocessed\"\n",
    "os.environ[\"nnUNet_results\"] = \"/home/rusk/projects/nnUNet-KiTS/DATASET/nnUNet_results\""
   ]
  },
  {
   "cell_type": "code",
   "execution_count": 11,
   "id": "67a2e9f42a0bfaec",
   "metadata": {
    "collapsed": false,
    "jupyter": {
     "outputs_hidden": false
    }
   },
   "outputs": [],
   "source": [
    "import os\n",
    "import json\n",
    "import shutil\n",
    "\n",
    "\n",
    "def save_json(obj, file, indent=4, sort_keys=True):\n",
    "    with open(file, 'w') as f:\n",
    "        json.dump(obj, f, sort_keys=sort_keys, indent=indent)\n",
    "\n",
    "\n",
    "def maybe_mkdir_p(directory):\n",
    "    directory = os.path.abspath(directory)\n",
    "    splits = directory.split(\"/\")[1:]\n",
    "    for i in range(0, len(splits)):\n",
    "        if not os.path.isdir(os.path.join(\"/\", *splits[:i + 1])):\n",
    "            try:\n",
    "                os.mkdir(os.path.join(\"/\", *splits[:i + 1]))\n",
    "            except FileExistsError:\n",
    "                # this can sometimes happen when two jobs try to create the same directory at the same time,\n",
    "                # especially on network drives.\n",
    "                print(\"WARNING: Folder %s already existed and does not need to be created\" % directory)\n",
    "\n",
    "\n",
    "def subdirs(folder, join=True, prefix=None, suffix=None, sort=True):\n",
    "    if join:\n",
    "        l = os.path.join\n",
    "    else:\n",
    "        l = lambda x, y: y\n",
    "    res = [l(folder, i) for i in os.listdir(folder) if os.path.isdir(os.path.join(folder, i))\n",
    "           and (prefix is None or i.startswith(prefix))\n",
    "           and (suffix is None or i.endswith(suffix))]\n",
    "    if sort:\n",
    "        res.sort()\n",
    "    return res\n",
    "\n",
    "\n",
    "cases = subdirs(base, join=False)\n",
    "\n",
    "maybe_mkdir_p(out)\n",
    "maybe_mkdir_p(os.path.join(out, \"imagesTr\"))\n",
    "maybe_mkdir_p(os.path.join(out, \"imagesTs\"))\n",
    "maybe_mkdir_p(os.path.join(out, \"labelsTr\"))\n",
    "\n",
    "for c in cases:\n",
    "    if not c.startswith('.'):  # Skip directories like '.git'\n",
    "        case_id = int(c.split(\"_\")[-1])\n",
    "        if case_id < 40:\n",
    "            shutil.copy(os.path.join(base, c, \"A\", \"imaging.nii.gz\"), os.path.join(out, \"imagesTr\", c + \"_0000.nii.gz\"))\n",
    "            shutil.copy(os.path.join(base, c, \"A\", \"segmentation.nii.gz\"), os.path.join(out, \"labelsTr\", c + \".nii.gz\"))\n",
    "        else:\n",
    "            shutil.copy(os.path.join(base, c, \"A\", \"imaging.nii.gz\"), os.path.join(out, \"imagesTs\", c + \"_0000.nii.gz\"))\n",
    "\n",
    "json_dict = {}\n",
    "\"\"\"\n",
    "name: 数据集名字\n",
    "dexcription: 对数据集的描述\n",
    "modality: 模态，0表示CT数据，1表示MR数据。nnU-Net会根据不同模态进行不同的预处理（nnunet-v2版本改为channel_names）\n",
    "labels: label中，不同的数值代表的类别(v1版本和v2版本的键值对刚好是反过来的)\n",
    "file_ending: nnunet v2新加的\n",
    "numTraining: 训练集数量\n",
    "numTest: 测试集数量\n",
    "training: 训练集的image 和 label 地址对\n",
    "test: 只包含测试集的image. 这里跟Training不一样\n",
    "\"\"\"\n",
    "json_dict['name'] = \"FYP-KiTS\"\n",
    "json_dict['description'] = \"kidney and kidney tumor segmentation\"\n",
    "json_dict['tensorImageSize'] = \"4D\"\n",
    "json_dict['reference'] = \"Final year project KiTS data for nnunet v2\"\n",
    "json_dict['licence'] = \"\"\n",
    "json_dict['release'] = \"0.0\"\n",
    "\n",
    "json_dict['channel_names'] = {\n",
    "    \"0\": \"CT\",\n",
    "}\n",
    "json_dict['labels'] = {\n",
    "    \"background\": \"0\",\n",
    "    \"Tumor\": \"1\",\n",
    "    \"Medulla\": \"2\",\n",
    "    \"Cortex\": \"3\"\n",
    "}\n",
    "json_dict['numTraining'] = len(cases)  # 应该是40例\n",
    "json_dict['file_ending'] = \".nii.gz\"\n",
    "json_dict['numTest'] = 0\n",
    "json_dict['training'] = [{'image': \"./imagesTr/%s.nii.gz\" % i, \"label\": \"./labelsTr/%s.nii.gz\" % i} for i in cases]\n",
    "# json_dict['test'] = []\n",
    "save_json(json_dict, os.path.join(out, \"dataset.json\"))"
   ]
  },
  {
   "cell_type": "code",
   "execution_count": null,
   "id": "fbfa08f8-8681-4e61-94e6-c5442aa90e03",
   "metadata": {},
   "outputs": [],
   "source": []
  }
 ],
 "metadata": {
  "kernelspec": {
   "display_name": "Python 3 (ipykernel)",
   "language": "python",
   "name": "python3"
  },
  "language_info": {
   "codemirror_mode": {
    "name": "ipython",
    "version": 3
   },
   "file_extension": ".py",
   "mimetype": "text/x-python",
   "name": "python",
   "nbconvert_exporter": "python",
   "pygments_lexer": "ipython3",
   "version": "3.10.13"
  }
 },
 "nbformat": 4,
 "nbformat_minor": 5
}

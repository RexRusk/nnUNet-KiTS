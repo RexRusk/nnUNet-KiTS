{
 "cells": [
  {
   "cell_type": "code",
   "execution_count": 1,
   "id": "eb7cd1d4-adc2-47ea-952f-d983f33da05f",
   "metadata": {},
   "outputs": [],
   "source": [
    "import nibabel as nib  \n",
    "import numpy as np\n",
    "from pathlib import Path"
   ]
  },
  {
   "cell_type": "code",
   "execution_count": 2,
   "id": "029bc93e-3a91-4e70-b7a3-9b84f066999f",
   "metadata": {},
   "outputs": [],
   "source": [
    "base_dir = Path('/home/rusk/projects/FYP-KiTS/KiTS')"
   ]
  },
  {
   "cell_type": "code",
   "execution_count": 3,
   "id": "ab33b2ff-e3dc-414c-9e7e-c5f45b97b9e9",
   "metadata": {},
   "outputs": [],
   "source": [
    "def trim_imaging_with_segmentation(imaging_file_path, segmentation_file_path, output_imaging_file_path, output_segmentation_file_path):\n",
    "    # Load segmentation file\n",
    "    segmentation_img = nib.load(segmentation_file_path)\n",
    "    segmentation_data = segmentation_img.get_fdata()\n",
    "\n",
    "    # Determine start and end frames based on segmentation mask\n",
    "    start_frame = None\n",
    "    end_frame = None\n",
    "    for frame in range(segmentation_data.shape[-1]):\n",
    "        if np.any(segmentation_data[..., frame]):\n",
    "            start_frame = max(0, frame - 3) # Include 3 frames above the first mask\n",
    "            break\n",
    "    for frame in range(segmentation_data.shape[-1] - 1, -1, -1):\n",
    "        if np.any(segmentation_data[..., frame]):\n",
    "            end_frame = min(segmentation_data.shape[-1] - 1, frame + 3)  # Include 3 frames below the end mask\n",
    "            break\n",
    "\n",
    "    if start_frame is None or end_frame is None:\n",
    "        print(\"No segmentation mask found.\")\n",
    "        return\n",
    "\n",
    "    # Load imaging file\n",
    "    imaging_img = nib.load(imaging_file_path)\n",
    "    imaging_data = imaging_img.get_fdata()\n",
    "\n",
    "    # Trim imaging data keeping 3 frames\n",
    "    trimmed_imaging_data = imaging_data[..., start_frame:end_frame+1]\n",
    "\n",
    "    # Trim segmentation data keeping 3 frames\n",
    "    trimmed_segmentation_data = segmentation_data[..., start_frame:end_frame+1]\n",
    "\n",
    "    # Save trimmed imaging data to a new file\n",
    "    trimmed_imaging_img = nib.Nifti1Image(trimmed_imaging_data, imaging_img.affine)\n",
    "    nib.save(trimmed_imaging_img, output_imaging_file_path)\n",
    "\n",
    "    # Save trimmed segmentation data to a new file\n",
    "    trimmed_segmentation_img = nib.Nifti1Image(trimmed_segmentation_data, segmentation_img.affine)\n",
    "    nib.save(trimmed_segmentation_img, output_segmentation_file_path)\n",
    "\n",
    "    print(f\"Trimmed imaging data saved to {output_imaging_file_path}.\")\n",
    "    print(f\"Trimmed segmentation data saved to {output_segmentation_file_path}.\")"
   ]
  },
  {
   "cell_type": "code",
   "execution_count": 4,
   "id": "20ff099a-9567-42a5-af45-b7f10643f9ea",
   "metadata": {},
   "outputs": [
    {
     "name": "stdout",
     "output_type": "stream",
     "text": [
      "find original files in folder:\n",
      "/home/rusk/projects/FYP-KiTS/KiTS/case_00015/A\n",
      "Trimmed imaging data saved to /home/rusk/projects/FYP-KiTS/KiTS/case_00015/A/imaging.nii.gz.\n",
      "Trimmed segmentation data saved to /home/rusk/projects/FYP-KiTS/KiTS/case_00015/A/segmentation.nii.gz.\n",
      "find original files in folder:\n",
      "/home/rusk/projects/FYP-KiTS/KiTS/case_00015/D\n",
      "Trimmed imaging data saved to /home/rusk/projects/FYP-KiTS/KiTS/case_00015/D/imaging.nii.gz.\n",
      "Trimmed segmentation data saved to /home/rusk/projects/FYP-KiTS/KiTS/case_00015/D/segmentation.nii.gz.\n",
      "find original files in folder:\n",
      "/home/rusk/projects/FYP-KiTS/KiTS/case_00014/A\n",
      "Trimmed imaging data saved to /home/rusk/projects/FYP-KiTS/KiTS/case_00014/A/imaging.nii.gz.\n",
      "Trimmed segmentation data saved to /home/rusk/projects/FYP-KiTS/KiTS/case_00014/A/segmentation.nii.gz.\n",
      "find original files in folder:\n",
      "/home/rusk/projects/FYP-KiTS/KiTS/case_00014/D\n",
      "Trimmed imaging data saved to /home/rusk/projects/FYP-KiTS/KiTS/case_00014/D/imaging.nii.gz.\n",
      "Trimmed segmentation data saved to /home/rusk/projects/FYP-KiTS/KiTS/case_00014/D/segmentation.nii.gz.\n"
     ]
    }
   ],
   "source": [
    "# Iterate through each case folder in KiTS\n",
    "for case_folder in base_dir.glob('case_*'):\n",
    "    case_name = case_folder.name\n",
    "    # Process subfolders A and D\n",
    "    for subfolder in ['A', 'D']:\n",
    "        subfolder_path = case_folder / subfolder\n",
    "        # Check if the subfolder exists\n",
    "        if subfolder_path.exists():\n",
    "            segmentation_file = subfolder_path / 'segmentation.nii.gz'  \n",
    "            if segmentation_file.exists():\n",
    "                print(\"find original files in folder:\")\n",
    "                print(subfolder_path)\n",
    "                # modify voxel spacing and orientation in segmentation to imaging\n",
    "                trim_imaging_with_segmentation(subfolder_path / \"imaging.nii.gz\", subfolder_path / \"segmentation.nii.gz\", subfolder_path / \"imaging.nii.gz\", subfolder_path / \"segmentation.nii.gz\")\n",
    "            else:\n",
    "                print(\"Canot find the segmentation.nii.gz in \" + str(subfolder_path))"
   ]
  },
  {
   "cell_type": "code",
   "execution_count": null,
   "id": "49d0572d-236d-413b-bf27-934fcf1b24c1",
   "metadata": {},
   "outputs": [],
   "source": []
  }
 ],
 "metadata": {
  "kernelspec": {
   "display_name": "Python 3 (ipykernel)",
   "language": "python",
   "name": "python3"
  },
  "language_info": {
   "codemirror_mode": {
    "name": "ipython",
    "version": 3
   },
   "file_extension": ".py",
   "mimetype": "text/x-python",
   "name": "python",
   "nbconvert_exporter": "python",
   "pygments_lexer": "ipython3",
   "version": "3.10.14"
  }
 },
 "nbformat": 4,
 "nbformat_minor": 5
}

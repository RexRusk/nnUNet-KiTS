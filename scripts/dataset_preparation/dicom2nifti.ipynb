{
 "cells": [
  {
   "cell_type": "code",
   "execution_count": 1,
   "id": "ed5df644",
   "metadata": {
    "ExecuteTime": {
     "end_time": "2024-04-26T17:26:52.702109Z",
     "start_time": "2024-04-26T17:26:52.697035Z"
    }
   },
   "outputs": [],
   "source": [
    "## This notebook convert dicom files( .bmp folders) to  nifti mask folder"
   ]
  },
  {
   "cell_type": "code",
   "execution_count": 30,
   "id": "60d591a6",
   "metadata": {},
   "outputs": [
    {
     "data": {
      "text/plain": [
       "'\\nFYP-KiTS\\n    KiTS\\n        case_00000\\n            A\\n                imaging.nii.gz\\n                segmentation.nii.gz\\n                ...\\n            D\\n                ...\\n        case_00001\\n        ...\\n        case_00039\\n    KiTS-bmp\\n    KiTS-dicom\\n        case_00000\\n            A\\n                ser008img00001.dcm\\n                ...\\n            D\\n                ...\\n        case_00001\\n        ...\\n        case_00039\\n'"
      ]
     },
     "execution_count": 30,
     "metadata": {},
     "output_type": "execute_result"
    }
   ],
   "source": [
    "## folder format:\n",
    "'''\n",
    "FYP-KiTS\n",
    "    KiTS\n",
    "        case_00000\n",
    "            A\n",
    "                imaging.nii.gz\n",
    "                segmentation.nii.gz\n",
    "                ...\n",
    "            D\n",
    "                ...\n",
    "        case_00001\n",
    "        ...\n",
    "        case_00039\n",
    "    KiTS-bmp\n",
    "    KiTS-dicom\n",
    "        case_00000\n",
    "            A\n",
    "                ser008img00001.dcm\n",
    "                ...\n",
    "            D\n",
    "                ...\n",
    "        case_00001\n",
    "        ...\n",
    "        case_00039\n",
    "'''\n",
    "## Convert the KiTS-dicom folders in A and D to nii.gz format in KiTS corresponding A and D with imaging.nii.gz"
   ]
  },
  {
   "cell_type": "code",
   "execution_count": 1,
   "id": "4f70b812",
   "metadata": {
    "ExecuteTime": {
     "end_time": "2024-03-29T08:15:55.446027Z",
     "start_time": "2024-03-29T08:15:52.289370Z"
    }
   },
   "outputs": [],
   "source": [
    "import os\n",
    "from fastai.vision.all import *\n",
    "import SimpleITK as sitk\n",
    "import shutil\n",
    "from pathlib import Path\n",
    "import dicom2nifti"
   ]
  },
  {
   "cell_type": "code",
   "execution_count": 2,
   "id": "4d62ccc7",
   "metadata": {},
   "outputs": [],
   "source": [
    "# Paths for input (DICOM) and output (NIfTI) folders\n",
    "input_dicom_folder = Path('/home/rusk/projects/FYP-KiTS/KiTS-dicom')\n",
    "output_nifti_folder = Path('/home/rusk/projects/FYP-KiTS/KiTS')"
   ]
  },
  {
   "cell_type": "code",
   "execution_count": 3,
   "id": "9f00d917-6ea5-4bcd-94b4-394e3803cb95",
   "metadata": {},
   "outputs": [],
   "source": [
    "\n",
    "# path_one_patient = Path('/home/rusk/projects/FYP-KiTS/A')\n",
    "# path_out_data = \"/home/rusk/projects/FYP-KiTS/\"\n",
    "# dicom2nifti.dicom_series_to_nifti(path_one_patient, os.path.join( 'new_imaging.nii.gz', path_out_data))\n",
    "\n",
    "# # 设定患者数据所在的目录  \n",
    "# path_one_patient = Path('/home/rusk/projects/FYP-KiTS/A')  \n",
    "# # 设定输出数据的根目录  \n",
    "# path_out_data = Path(\"/home/rusk/projects/FYP-KiTS/\")  \n",
    "  \n",
    "# # 使用Path对象的/运算符拼接输出文件的完整路径  \n",
    "# output_file_path = path_out_data / 'new_imaging.nii.gz'  \n",
    "  \n",
    "# # 调用dicom_series_to_nifti函数，并将输出文件路径作为参数传递  \n",
    "# dicom2nifti.dicom_series_to_nifti(path_one_patient, output_file_path)\n"
   ]
  },
  {
   "cell_type": "code",
   "execution_count": 10,
   "id": "c43acaee-573a-4184-83ec-f6677480ed69",
   "metadata": {},
   "outputs": [],
   "source": [
    "import os\n",
    " # Loop through each case_xxxxx directory\n",
    "for dir in os.listdir(input_dicom_folder):\n",
    "     if dir.startswith(\"case_\"):\n",
    "         # Create directory A\n",
    "         os.makedirs(os.path.join(\"FYP-KiTS/KiTS\", dir, \"A\"), exist_ok=True)\n",
    "         # Create directory D\n",
    "         os.makedirs(os.path.join(\"FYP-KiTS/KiTS\", dir, \"D\"), exist_ok=True)"
   ]
  },
  {
   "cell_type": "code",
   "execution_count": 4,
   "id": "b0c252ac",
   "metadata": {},
   "outputs": [],
   "source": [
    "def dicom2nifti(image_dir, out_dir, save=True):\n",
    "    \"given a dicom directory, loads them into single file and can save it as .nii.gz file\"\n",
    "    reader = sitk.ImageSeriesReader()\n",
    "    reader.LoadPrivateTagsOn()\n",
    "    filenamesDICOM = reader.GetGDCMSeriesFileNames(str(image_dir))\n",
    "    reader.SetFileNames(filenamesDICOM)\n",
    "    img = reader.Execute()\n",
    "    img = sitk.Cast(img, sitk.sitkFloat32)\n",
    "    \n",
    "    if save:\n",
    "        sitk.WriteImage(img, f'{out_dir}/imaging.nii.gz')\n",
    "    else:\n",
    "        return img"
   ]
  },
  {
   "cell_type": "code",
   "execution_count": 11,
   "id": "443d3894",
   "metadata": {},
   "outputs": [
    {
     "name": "stdout",
     "output_type": "stream",
     "text": [
      "find dcm files in folder:\n",
      "/home/rusk/projects/FYP-KiTS/KiTS-dicom/case_00043/A\n",
      "convert to .nii.gz in folder:\n",
      "/home/rusk/projects/FYP-KiTS/KiTS/case_00043/A\n",
      "find dcm files in folder:\n",
      "/home/rusk/projects/FYP-KiTS/KiTS-dicom/case_00043/D\n",
      "convert to .nii.gz in folder:\n",
      "/home/rusk/projects/FYP-KiTS/KiTS/case_00043/D\n",
      "find dcm files in folder:\n",
      "/home/rusk/projects/FYP-KiTS/KiTS-dicom/case_00044/A\n",
      "convert to .nii.gz in folder:\n",
      "/home/rusk/projects/FYP-KiTS/KiTS/case_00044/A\n",
      "find dcm files in folder:\n",
      "/home/rusk/projects/FYP-KiTS/KiTS-dicom/case_00044/D\n",
      "convert to .nii.gz in folder:\n",
      "/home/rusk/projects/FYP-KiTS/KiTS/case_00044/D\n",
      "find dcm files in folder:\n",
      "/home/rusk/projects/FYP-KiTS/KiTS-dicom/case_00049/A\n",
      "convert to .nii.gz in folder:\n",
      "/home/rusk/projects/FYP-KiTS/KiTS/case_00049/A\n",
      "find dcm files in folder:\n",
      "/home/rusk/projects/FYP-KiTS/KiTS-dicom/case_00049/D\n",
      "convert to .nii.gz in folder:\n",
      "/home/rusk/projects/FYP-KiTS/KiTS/case_00049/D\n",
      "find dcm files in folder:\n",
      "/home/rusk/projects/FYP-KiTS/KiTS-dicom/case_00042/A\n",
      "convert to .nii.gz in folder:\n",
      "/home/rusk/projects/FYP-KiTS/KiTS/case_00042/A\n",
      "find dcm files in folder:\n",
      "/home/rusk/projects/FYP-KiTS/KiTS-dicom/case_00042/D\n",
      "convert to .nii.gz in folder:\n",
      "/home/rusk/projects/FYP-KiTS/KiTS/case_00042/D\n",
      "find dcm files in folder:\n",
      "/home/rusk/projects/FYP-KiTS/KiTS-dicom/case_00040/A\n",
      "convert to .nii.gz in folder:\n",
      "/home/rusk/projects/FYP-KiTS/KiTS/case_00040/A\n",
      "find dcm files in folder:\n",
      "/home/rusk/projects/FYP-KiTS/KiTS-dicom/case_00040/D\n",
      "convert to .nii.gz in folder:\n",
      "/home/rusk/projects/FYP-KiTS/KiTS/case_00040/D\n",
      "find dcm files in folder:\n",
      "/home/rusk/projects/FYP-KiTS/KiTS-dicom/case_00052/A\n",
      "convert to .nii.gz in folder:\n",
      "/home/rusk/projects/FYP-KiTS/KiTS/case_00052/A\n",
      "find dcm files in folder:\n",
      "/home/rusk/projects/FYP-KiTS/KiTS-dicom/case_00052/D\n",
      "convert to .nii.gz in folder:\n",
      "/home/rusk/projects/FYP-KiTS/KiTS/case_00052/D\n",
      "find dcm files in folder:\n",
      "/home/rusk/projects/FYP-KiTS/KiTS-dicom/case_00051/A\n",
      "convert to .nii.gz in folder:\n",
      "/home/rusk/projects/FYP-KiTS/KiTS/case_00051/A\n",
      "find dcm files in folder:\n",
      "/home/rusk/projects/FYP-KiTS/KiTS-dicom/case_00051/D\n",
      "convert to .nii.gz in folder:\n",
      "/home/rusk/projects/FYP-KiTS/KiTS/case_00051/D\n",
      "find dcm files in folder:\n",
      "/home/rusk/projects/FYP-KiTS/KiTS-dicom/case_00054/A\n",
      "convert to .nii.gz in folder:\n",
      "/home/rusk/projects/FYP-KiTS/KiTS/case_00054/A\n",
      "find dcm files in folder:\n",
      "/home/rusk/projects/FYP-KiTS/KiTS-dicom/case_00054/D\n",
      "convert to .nii.gz in folder:\n",
      "/home/rusk/projects/FYP-KiTS/KiTS/case_00054/D\n",
      "find dcm files in folder:\n",
      "/home/rusk/projects/FYP-KiTS/KiTS-dicom/case_00046/A\n",
      "convert to .nii.gz in folder:\n",
      "/home/rusk/projects/FYP-KiTS/KiTS/case_00046/A\n",
      "find dcm files in folder:\n",
      "/home/rusk/projects/FYP-KiTS/KiTS-dicom/case_00046/D\n",
      "convert to .nii.gz in folder:\n",
      "/home/rusk/projects/FYP-KiTS/KiTS/case_00046/D\n",
      "find dcm files in folder:\n",
      "/home/rusk/projects/FYP-KiTS/KiTS-dicom/case_00045/A\n",
      "convert to .nii.gz in folder:\n",
      "/home/rusk/projects/FYP-KiTS/KiTS/case_00045/A\n",
      "find dcm files in folder:\n",
      "/home/rusk/projects/FYP-KiTS/KiTS-dicom/case_00045/D\n",
      "convert to .nii.gz in folder:\n",
      "/home/rusk/projects/FYP-KiTS/KiTS/case_00045/D\n",
      "find dcm files in folder:\n",
      "/home/rusk/projects/FYP-KiTS/KiTS-dicom/case_00048/A\n",
      "convert to .nii.gz in folder:\n",
      "/home/rusk/projects/FYP-KiTS/KiTS/case_00048/A\n",
      "find dcm files in folder:\n",
      "/home/rusk/projects/FYP-KiTS/KiTS-dicom/case_00048/D\n",
      "convert to .nii.gz in folder:\n",
      "/home/rusk/projects/FYP-KiTS/KiTS/case_00048/D\n",
      "find dcm files in folder:\n",
      "/home/rusk/projects/FYP-KiTS/KiTS-dicom/case_00050/A\n",
      "convert to .nii.gz in folder:\n",
      "/home/rusk/projects/FYP-KiTS/KiTS/case_00050/A\n",
      "find dcm files in folder:\n",
      "/home/rusk/projects/FYP-KiTS/KiTS-dicom/case_00050/D\n",
      "convert to .nii.gz in folder:\n",
      "/home/rusk/projects/FYP-KiTS/KiTS/case_00050/D\n",
      "find dcm files in folder:\n",
      "/home/rusk/projects/FYP-KiTS/KiTS-dicom/case_00053/A\n",
      "convert to .nii.gz in folder:\n",
      "/home/rusk/projects/FYP-KiTS/KiTS/case_00053/A\n",
      "find dcm files in folder:\n",
      "/home/rusk/projects/FYP-KiTS/KiTS-dicom/case_00053/D\n",
      "convert to .nii.gz in folder:\n",
      "/home/rusk/projects/FYP-KiTS/KiTS/case_00053/D\n",
      "find dcm files in folder:\n",
      "/home/rusk/projects/FYP-KiTS/KiTS-dicom/case_00041/A\n",
      "convert to .nii.gz in folder:\n",
      "/home/rusk/projects/FYP-KiTS/KiTS/case_00041/A\n",
      "find dcm files in folder:\n",
      "/home/rusk/projects/FYP-KiTS/KiTS-dicom/case_00041/D\n",
      "convert to .nii.gz in folder:\n",
      "/home/rusk/projects/FYP-KiTS/KiTS/case_00041/D\n",
      "find dcm files in folder:\n",
      "/home/rusk/projects/FYP-KiTS/KiTS-dicom/case_00047/A\n",
      "convert to .nii.gz in folder:\n",
      "/home/rusk/projects/FYP-KiTS/KiTS/case_00047/A\n",
      "find dcm files in folder:\n",
      "/home/rusk/projects/FYP-KiTS/KiTS-dicom/case_00047/D\n",
      "convert to .nii.gz in folder:\n",
      "/home/rusk/projects/FYP-KiTS/KiTS/case_00047/D\n"
     ]
    }
   ],
   "source": [
    "# Iterate through each case folder in KiTS-dicom\n",
    "for case_folder in input_dicom_folder.glob('case_*'):\n",
    "    case_name = case_folder.name\n",
    "    # Process subfolders A and D\n",
    "    for subfolder in ['A', 'D']:\n",
    "        subfolder_path = case_folder / subfolder      \n",
    "        # Check if the subfolder exists\n",
    "        if subfolder_path.exists():\n",
    "            print(\"find dcm files in folder:\")\n",
    "            print(subfolder_path)\n",
    "            print(\"convert to .nii.gz in folder:\")\n",
    "            print(output_nifti_folder / case_name / subfolder)\n",
    "            # Convert DICOM to NIfTI\n",
    "            dicom2nifti(subfolder_path, output_nifti_folder / case_name / subfolder)"
   ]
  },
  {
   "cell_type": "code",
   "execution_count": null,
   "id": "66e5959c-9dc7-4c14-86d6-f2f3beb0c400",
   "metadata": {},
   "outputs": [],
   "source": []
  }
 ],
 "metadata": {
  "kernelspec": {
   "display_name": "Python 3 (ipykernel)",
   "language": "python",
   "name": "python3"
  },
  "language_info": {
   "codemirror_mode": {
    "name": "ipython",
    "version": 3
   },
   "file_extension": ".py",
   "mimetype": "text/x-python",
   "name": "python",
   "nbconvert_exporter": "python",
   "pygments_lexer": "ipython3",
   "version": "3.10.14"
  }
 },
 "nbformat": 4,
 "nbformat_minor": 5
}

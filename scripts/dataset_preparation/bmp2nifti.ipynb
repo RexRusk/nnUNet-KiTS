{
 "cells": [
  {
   "cell_type": "code",
   "execution_count": 1,
   "id": "2de3c6bc-c430-43f7-a084-21f22b991d4b",
   "metadata": {
    "ExecuteTime": {
     "end_time": "2024-04-06T13:28:38.375387Z",
     "start_time": "2024-04-06T13:28:38.362903Z"
    }
   },
   "outputs": [
    {
     "data": {
      "text/plain": [
       "'\\njson_dict[\\'labels\\'] = {\\n    \"background\": \"0\",\\n    \"Tumor\": \"1\",\\n    \"Medulla\": \"2\",\\n    \"Cortex\": \"3\",\\n    \"Kidney\": \"4\",\\n}\\n'"
      ]
     },
     "execution_count": 1,
     "metadata": {},
     "output_type": "execute_result"
    }
   ],
   "source": [
    "## update the four bmp image folders, where:\n",
    "## because only delay phase have bad medulla and cortex seperation, in general, the label of kidney is not used except annotation\n",
    "'''\n",
    "json_dict['labels'] = {\n",
    "    \"background\": \"0\",\n",
    "    \"Tumor\": \"1\",\n",
    "    \"Medulla\": \"2\",\n",
    "    \"Cortex\": \"3\",\n",
    "    \"Kidney\": \"4\",\n",
    "}\n",
    "'''"
   ]
  },
  {
   "cell_type": "code",
   "execution_count": 2,
   "id": "9dd4dc83-a403-40fa-a5e4-48c8631caa02",
   "metadata": {},
   "outputs": [
    {
     "data": {
      "text/plain": [
       "'\\n# List of subdirectories to add\\nsubdirectories = [\"Kidney\", \"Tumor\", \"Cortex\", \"Medulla\"]\\n\\n# Iterate through each case_xxxxx directory\\nfor dir in os.listdir(\"KiTS-bmp\"):\\n    if dir.startswith(\"case_\"):\\n        # Create directory A\\n        dir_A = os.path.join(\"FYP-KiTS/KiTS-bmp\", dir, \"A\")\\n        os.makedirs(dir_A, exist_ok=True)\\n\\n        # Create subdirectories in directory A\\n        for subdirectory in subdirectories:\\n            os.makedirs(os.path.join(dir_A, subdirectory), exist_ok=True)\\n\\n        # Create directory D\\n        dir_D = os.path.join(\"FYP-KiTS/KiTS-bmp\", dir, \"D\")\\n        os.makedirs(dir_D, exist_ok=True)\\n\\n        # Create subdirectories in directory D\\n        for subdirectory in subdirectories:\\n            os.makedirs(os.path.join(dir_D, subdirectory), exist_ok=True)\\n'"
      ]
     },
     "execution_count": 2,
     "metadata": {},
     "output_type": "execute_result"
    }
   ],
   "source": [
    "'''\n",
    "# List of subdirectories to add\n",
    "subdirectories = [\"Kidney\", \"Tumor\", \"Cortex\", \"Medulla\"]\n",
    "\n",
    "# Iterate through each case_xxxxx directory\n",
    "for dir in os.listdir(\"KiTS-bmp\"):\n",
    "    if dir.startswith(\"case_\"):\n",
    "        # Create directory A\n",
    "        dir_A = os.path.join(\"FYP-KiTS/KiTS-bmp\", dir, \"A\")\n",
    "        os.makedirs(dir_A, exist_ok=True)\n",
    "\n",
    "        # Create subdirectories in directory A\n",
    "        for subdirectory in subdirectories:\n",
    "            os.makedirs(os.path.join(dir_A, subdirectory), exist_ok=True)\n",
    "\n",
    "        # Create directory D\n",
    "        dir_D = os.path.join(\"FYP-KiTS/KiTS-bmp\", dir, \"D\")\n",
    "        os.makedirs(dir_D, exist_ok=True)\n",
    "\n",
    "        # Create subdirectories in directory D\n",
    "        for subdirectory in subdirectories:\n",
    "            os.makedirs(os.path.join(dir_D, subdirectory), exist_ok=True)\n",
    "'''"
   ]
  },
  {
   "cell_type": "code",
   "execution_count": 1,
   "id": "baa0c891-3972-4b4c-94f7-9ec901818fa1",
   "metadata": {},
   "outputs": [],
   "source": [
    "import cv2\n",
    "import os\n",
    "import numpy as np\n",
    "import nibabel as nib\n",
    "import matplotlib.pyplot as plt\n",
    "from pathlib import Path"
   ]
  },
  {
   "cell_type": "code",
   "execution_count": 2,
   "id": "9aad1d44-2ab6-4736-9a38-1a424a831909",
   "metadata": {},
   "outputs": [],
   "source": [
    "# test example usage:\n",
    "# Define input and output directories\n",
    "base_dir = Path('/home/rusk/projects/FYP-KiTS/bmpin')\n",
    "output_dir = Path('/home/rusk/projects/FYP-KiTS/KiTS')"
   ]
  },
  {
   "cell_type": "code",
   "execution_count": 3,
   "id": "fd9c6eaa-a4b9-4408-9245-6818d90e81a2",
   "metadata": {},
   "outputs": [],
   "source": [
    "def extract_color(image, color_name):\n",
    "    # Convert image to HSL color space\n",
    "    hsl_image = cv2.cvtColor(image, cv2.COLOR_BGR2HLS)\n",
    "    \n",
    "    # Define color ranges for yellow, green, and blue in HSL space\n",
    "    color_ranges = {\n",
    "        # define the color not include the red for left button text in bmp images (not 0 in Humidity)\n",
    "        'not_red': ((1, 100, 100), (180, 255, 255))\n",
    "    }\n",
    "    \n",
    "    # Get lower and upper bounds for the specified color\n",
    "    lower_bound, upper_bound = color_ranges[color_name]\n",
    "    \n",
    "    # Create a mask using the specified color range\n",
    "    mask = cv2.inRange(hsl_image, lower_bound, upper_bound)\n",
    "    \n",
    "    return mask"
   ]
  },
  {
   "cell_type": "code",
   "execution_count": 4,
   "id": "99d6405e-2a93-4f80-af16-2efbd6fafbe5",
   "metadata": {},
   "outputs": [],
   "source": [
    "def bmp2nifti(image_dir, output_dir, name, save=True):\n",
    "    # Get all BMP files in the specified directory\n",
    "    bmp_files = [file for file in os.listdir(image_dir) if file.endswith('.bmp')]\n",
    "    bmp_files.sort()  # Sort files to ensure consistent order\n",
    "    \n",
    "    # Load the first BMP image to get dimensions\n",
    "    first_image = cv2.imread(os.path.join(image_dir, bmp_files[0]))\n",
    "    height, width = first_image.shape[:2]\n",
    "    \n",
    "    # Initialize an empty array to store masks\n",
    "    masks = np.zeros((len(bmp_files), height, width), dtype=np.uint8)\n",
    "    \n",
    "    # Iterate through all BMP files and extract masks\n",
    "    for idx, bmp_file in enumerate(bmp_files):\n",
    "        image = cv2.imread(os.path.join(image_dir, bmp_file))\n",
    "        not_red_mask = extract_color(image, 'not_red')\n",
    "        \n",
    "        # Combine masks into a single mask\n",
    "        combined_mask = np.zeros_like(not_red_mask)\n",
    "\n",
    "        # This order keep the order to show tumor in the first layer\n",
    "        combined_mask[not_red_mask > 0] = 1  # mask label except the background\n",
    "        \n",
    "        # Store the combined mask\n",
    "        masks[idx] = combined_mask\n",
    "    \n",
    "    # Create a 3D volume from the stacked masks\n",
    "    volume = np.transpose(masks, (2, 1, 0))\n",
    "\n",
    "    # Rotate the volume anticlockwise by 90 degrees\n",
    "    # volume = np.rot90(volume, k=1, axes=(0, 1))\n",
    "    \n",
    "    # Save the volume as a NIfTI file\n",
    "    nii_save_path = os.path.join(output_dir, name + '.nii.gz')\n",
    "    if save:\n",
    "        # Save combined mask as .nii.gz file\n",
    "        affine = np.eye(4)  # Assuming identity affine matrix\n",
    "        # header = nib.Nifti1Header()\n",
    "        # header.set_data_shape(combined_mask.shape)\n",
    "        # nifti_img = nib.Nifti1Image(volume, affine, header)\n",
    "        nifti_img = nib.Nifti1Image(volume, affine)\n",
    "        \n",
    "        nib.save(nifti_img, output_dir / (name + '.nii.gz'))\n",
    "        print(f\"Segmentation saved as {nii_save_path}\")\n",
    "    else:\n",
    "        print(f\"Segmentation FAILED TO save as {nii_save_path}\")\n",
    "    return volume"
   ]
  },
  {
   "cell_type": "code",
   "execution_count": 5,
   "id": "26e06c2c-4057-43ab-8325-c0d95c927377",
   "metadata": {},
   "outputs": [],
   "source": [
    "def convert_folders(input_dir, output_dir):\n",
    "    # Define structures\n",
    "    structures = ['Kidney', 'Tumor', 'Cortex', 'Medulla']\n",
    "    \n",
    "    # Process each structure\n",
    "    for structure in structures:    \n",
    "        # Perform segmentation\n",
    "        segmentation_volume = bmp2nifti(input_dir / structure, output_dir, structure.lower())\n",
    "    \n",
    "    \n",
    "    # convert seperated masks to one multi-object segmentation.nii.gz file\n",
    "    # Load the segmentation files as arrays\n",
    "    kidney_segmentation = nib.load(output_dir / 'kidney.nii.gz').get_fdata().astype(np.uint8)\n",
    "    tumor_segmentation = nib.load(output_dir / 'tumor.nii.gz').get_fdata().astype(np.uint8)\n",
    "    cortex_segmentation = nib.load(output_dir / 'cortex.nii.gz').get_fdata().astype(np.uint8)\n",
    "    medulla_segmentation = nib.load(output_dir / 'medulla.nii.gz').get_fdata().astype(np.uint8)\n",
    "    \n",
    "    # Create a combined segmentation\n",
    "    combined_data = np.zeros_like(kidney_segmentation)\n",
    "    \n",
    "    # Assign labels to different masks\n",
    "    # combined_data[kidney_segmentation != 0] = 4\n",
    "    combined_data[cortex_segmentation != 0] = 3\n",
    "    combined_data[medulla_segmentation != 0] = 2\n",
    "    combined_data[tumor_segmentation != 0] = 1\n",
    "    \n",
    "    # Save the combined segmentation\n",
    "    combined_segmentation = nib.Nifti1Image(combined_data, nib.load(output_dir / 'kidney.nii.gz').affine)\n",
    "    # nib.save(combined_segmentation, name + phase + 'segmentation.nii.gz')\n",
    "    nib.save(combined_segmentation, output_dir / 'segmentation.nii.gz')\n",
    "    print(\"success to save as segmentation.nii.gz\")\n",
    "\n",
    "    # delete unnessesary files\n",
    "    os.remove(output_dir / 'kidney.nii.gz')\n",
    "    os.remove(output_dir / 'tumor.nii.gz')\n",
    "    os.remove(output_dir / 'cortex.nii.gz')\n",
    "    os.remove(output_dir / 'medulla.nii.gz')"
   ]
  },
  {
   "cell_type": "code",
   "execution_count": 7,
   "id": "4401798d-92e7-4573-9036-52110a1d89d0",
   "metadata": {},
   "outputs": [
    {
     "name": "stdout",
     "output_type": "stream",
     "text": [
      "Segmentation saved as /home/rusk/projects/FYP-KiTS/KiTS/case_00015/A/kidney.nii.gz\n",
      "Segmentation saved as /home/rusk/projects/FYP-KiTS/KiTS/case_00015/A/tumor.nii.gz\n",
      "Segmentation saved as /home/rusk/projects/FYP-KiTS/KiTS/case_00015/A/cortex.nii.gz\n",
      "Segmentation saved as /home/rusk/projects/FYP-KiTS/KiTS/case_00015/A/medulla.nii.gz\n",
      "success to save as segmentation.nii.gz\n",
      "Segmentation saved as /home/rusk/projects/FYP-KiTS/KiTS/case_00015/D/kidney.nii.gz\n",
      "Segmentation saved as /home/rusk/projects/FYP-KiTS/KiTS/case_00015/D/tumor.nii.gz\n",
      "Segmentation saved as /home/rusk/projects/FYP-KiTS/KiTS/case_00015/D/cortex.nii.gz\n",
      "Segmentation saved as /home/rusk/projects/FYP-KiTS/KiTS/case_00015/D/medulla.nii.gz\n",
      "success to save as segmentation.nii.gz\n",
      "Segmentation saved as /home/rusk/projects/FYP-KiTS/KiTS/case_00014/A/kidney.nii.gz\n",
      "Segmentation saved as /home/rusk/projects/FYP-KiTS/KiTS/case_00014/A/tumor.nii.gz\n",
      "Segmentation saved as /home/rusk/projects/FYP-KiTS/KiTS/case_00014/A/cortex.nii.gz\n",
      "Segmentation saved as /home/rusk/projects/FYP-KiTS/KiTS/case_00014/A/medulla.nii.gz\n",
      "success to save as segmentation.nii.gz\n",
      "Segmentation saved as /home/rusk/projects/FYP-KiTS/KiTS/case_00014/D/kidney.nii.gz\n",
      "Segmentation saved as /home/rusk/projects/FYP-KiTS/KiTS/case_00014/D/tumor.nii.gz\n",
      "Segmentation saved as /home/rusk/projects/FYP-KiTS/KiTS/case_00014/D/cortex.nii.gz\n",
      "Segmentation saved as /home/rusk/projects/FYP-KiTS/KiTS/case_00014/D/medulla.nii.gz\n",
      "success to save as segmentation.nii.gz\n"
     ]
    }
   ],
   "source": [
    "# Iterate through each case folder in KiTS-dicom\n",
    "for case_folder in base_dir.glob('case_*'):\n",
    "    case_name = case_folder.name\n",
    "    # Process subfolders A and D\n",
    "    for subfolder in ['A', 'D']:\n",
    "        label_in_path = case_folder / subfolder\n",
    "        out_path = Path(output_dir / case_name / subfolder)\n",
    "        # Check if the subfolder exists\n",
    "        if label_in_path.exists():\n",
    "            if os.listdir(label_in_path / 'Tumor'):\n",
    "                # Convert BMP to NIfTI\n",
    "                convert_folders(label_in_path, out_path)\n",
    "                \n",
    "            else:\n",
    "                print(\"Canot find the BMP files in \" + str(label_in_path))"
   ]
  },
  {
   "cell_type": "code",
   "execution_count": null,
   "id": "74a9bb8d-eb17-45d4-ba23-243c4a55c6a3",
   "metadata": {},
   "outputs": [],
   "source": []
  }
 ],
 "metadata": {
  "kernelspec": {
   "display_name": "Python 3 (ipykernel)",
   "language": "python",
   "name": "python3"
  },
  "language_info": {
   "codemirror_mode": {
    "name": "ipython",
    "version": 3
   },
   "file_extension": ".py",
   "mimetype": "text/x-python",
   "name": "python",
   "nbconvert_exporter": "python",
   "pygments_lexer": "ipython3",
   "version": "3.10.14"
  }
 },
 "nbformat": 4,
 "nbformat_minor": 5
}

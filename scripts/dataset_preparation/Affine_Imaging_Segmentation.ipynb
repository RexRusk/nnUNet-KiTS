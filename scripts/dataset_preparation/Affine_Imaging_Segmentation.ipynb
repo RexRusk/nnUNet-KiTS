{
 "cells": [
  {
   "cell_type": "code",
   "execution_count": 1,
   "id": "09bc879b-ce95-417b-946e-f4061f11b3e9",
   "metadata": {},
   "outputs": [],
   "source": [
    "import nibabel as nib\n",
    "from pathlib import Path"
   ]
  },
  {
   "cell_type": "code",
   "execution_count": 2,
   "id": "df60f233-510b-4e4f-91aa-14c118e62d3c",
   "metadata": {},
   "outputs": [],
   "source": [
    "base_dir = Path('/home/rusk/projects/FYP-KiTS/KiTS')"
   ]
  },
  {
   "cell_type": "code",
   "execution_count": 3,
   "id": "5dc24b04-bf30-4be0-a76c-97264c8c9a03",
   "metadata": {},
   "outputs": [],
   "source": [
    "def AffineSpacingOrientation(load_dir):\n",
    "    # load imaging.nii.gz and segmentation.nii.gz\n",
    "    img = nib.load(load_dir / 'imaging.nii.gz')  \n",
    "    seg = nib.load(load_dir / 'segmentation.nii.gz')  \n",
    "    # 获取 imaging.nii.gz 的体素间距和朝向  \n",
    "    img_affine = img.affine  \n",
    "    img_header = img.header  \n",
    "    img_pixdim = img_header.get_zooms()  # 获取体素间距  \n",
    "      \n",
    "    # 设置 segmentation.nii.gz 的体素间距和朝向以匹配 imaging.nii.gz  \n",
    "    seg_affine = img_affine  \n",
    "    seg_header = seg.header.copy()  \n",
    "    seg_header.set_zooms(img_pixdim)  \n",
    "      \n",
    "    # 创建一个新的 nibabel 图像对象，使用修改后的体素间距和朝向  \n",
    "    new_seg = nib.Nifti1Image(seg.get_fdata(), seg_affine, seg_header)  \n",
    "      \n",
    "    # 保存修改后的 segmentation.nii.gz 文件  \n",
    "    nib.save(new_seg, load_dir / 'segmentation.nii.gz')  \n",
    "      \n",
    "    print(\"The segmentation in \"+ str(load_dir) +\" is converted to segmentation.nii.gz.\")"
   ]
  },
  {
   "cell_type": "code",
   "execution_count": 4,
   "id": "3fedd3f2-ac7d-434d-8915-fae8421c37b4",
   "metadata": {},
   "outputs": [
    {
     "name": "stdout",
     "output_type": "stream",
     "text": [
      "find original files in folder:\n",
      "/home/rusk/projects/FYP-KiTS/KiTS/case_00015/A\n",
      "The segmentation in /home/rusk/projects/FYP-KiTS/KiTS/case_00015/A is converted to segmentation.nii.gz.\n",
      "find original files in folder:\n",
      "/home/rusk/projects/FYP-KiTS/KiTS/case_00015/D\n",
      "The segmentation in /home/rusk/projects/FYP-KiTS/KiTS/case_00015/D is converted to segmentation.nii.gz.\n",
      "find original files in folder:\n",
      "/home/rusk/projects/FYP-KiTS/KiTS/case_00014/A\n",
      "The segmentation in /home/rusk/projects/FYP-KiTS/KiTS/case_00014/A is converted to segmentation.nii.gz.\n",
      "find original files in folder:\n",
      "/home/rusk/projects/FYP-KiTS/KiTS/case_00014/D\n",
      "The segmentation in /home/rusk/projects/FYP-KiTS/KiTS/case_00014/D is converted to segmentation.nii.gz.\n"
     ]
    }
   ],
   "source": [
    "# Iterate through each case folder in KiTS\n",
    "for case_folder in base_dir.glob('case_*'):\n",
    "    case_name = case_folder.name\n",
    "    # Process subfolders A and D\n",
    "    for subfolder in ['A', 'D']:\n",
    "        subfolder_path = case_folder / subfolder\n",
    "        # Check if the subfolder exists\n",
    "        if subfolder_path.exists():\n",
    "            segmentation_file = subfolder_path / 'segmentation.nii.gz'  \n",
    "            if segmentation_file.exists():\n",
    "                print(\"find original files in folder:\")\n",
    "                print(subfolder_path)\n",
    "                # modify voxel spacing and orientation in segmentation to imaging\n",
    "                AffineSpacingOrientation(subfolder_path)\n",
    "            else:\n",
    "                print(\"Canot find the segmentation.nii.gz in \" + str(subfolder_path))"
   ]
  },
  {
   "cell_type": "code",
   "execution_count": 9,
   "id": "00409988-a854-4532-894a-827896e38053",
   "metadata": {},
   "outputs": [],
   "source": [
    "# it TIK hits no orthogonal, use this\n",
    "import nibabel as nib\n",
    "img = nib.load(\"segmentation.nii.gz\")\n",
    "qform = img.get_qform()\n",
    "img.set_qform(qform)\n",
    "sfrom = img.get_sform()\n",
    "img.set_sform(sfrom)\n",
    "nib.save(img, \"segmentation.nii.gz\")"
   ]
  },
  {
   "cell_type": "code",
   "execution_count": 10,
   "id": "d5f26e14-9e96-485b-943d-c3d1386ae158",
   "metadata": {},
   "outputs": [],
   "source": [
    "# it TIK hits no orthogonal, use this\n",
    "import nibabel as nib\n",
    "img = nib.load(\"imaging.nii.gz\")\n",
    "qform = img.get_qform()\n",
    "img.set_qform(qform)\n",
    "sfrom = img.get_sform()\n",
    "img.set_sform(sfrom)\n",
    "nib.save(img, \"imaging.nii.gz\")"
   ]
  },
  {
   "cell_type": "code",
   "execution_count": null,
   "id": "daec184c-783e-4d3f-a4fa-9a3c202e98b3",
   "metadata": {},
   "outputs": [],
   "source": []
  }
 ],
 "metadata": {
  "kernelspec": {
   "display_name": "Python 3 (ipykernel)",
   "language": "python",
   "name": "python3"
  },
  "language_info": {
   "codemirror_mode": {
    "name": "ipython",
    "version": 3
   },
   "file_extension": ".py",
   "mimetype": "text/x-python",
   "name": "python",
   "nbconvert_exporter": "python",
   "pygments_lexer": "ipython3",
   "version": "3.10.14"
  }
 },
 "nbformat": 4,
 "nbformat_minor": 5
}
